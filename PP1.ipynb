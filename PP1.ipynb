{
 "cells": [
  {
   "cell_type": "code",
   "execution_count": 15,
   "metadata": {},
   "outputs": [
    {
     "name": "stdout",
     "output_type": "stream",
     "text": [
      "Vincenty distance calculation.\n",
      "Inserit tweet IDs:\n",
      "Tweet 1: 263130624880164864\n",
      "Tweet 2: 263130626834718720\n",
      "Distance =  313.97598043703755\n"
     ]
    }
   ],
   "source": [
    "import gspread\n",
    "from oauth2client.service_account import ServiceAccountCredentials\n",
    "import pprint\n",
    "from geopy import distance\n",
    "\n",
    "#FUNCTIONS\n",
    "def convers(loc):\n",
    "    if loc == 'n.a':\n",
    "        return\n",
    "    elif loc == '[]':\n",
    "        return\n",
    "    loc = loc[2:-4]\n",
    "    splt_loc = loc.split(\",\")\n",
    "    loc = tuple(splt_loc)\n",
    "    return loc\n",
    "\n",
    "#IMPORTAZIONE DATASET TWEET ANNOTATI\n",
    "scope = ['https://spreadsheets.google.com/feeds',\n",
    "         'https://www.googleapis.com/auth/drive']\n",
    "creds = ServiceAccountCredentials.from_json_keyfile_name('client_secret.json', scope)\n",
    "client = gspread.authorize(creds)\n",
    "sheet = client.open(\"Hurricane Sandy dataset completion \").sheet1 \n",
    "dataset = sheet.get_all_records(head = 26) #list of dictionaries\n",
    "\n",
    "#print(sheet.cell(27,1).value) -> metodo alternativo per accedere al foglio ecsell\n",
    "#pp = pprint.PrettyPrinter()\n",
    "#pp.pprint(dataset_dict)\n",
    "#print(dataset)\n",
    "#print(len(dataset_dict))\n",
    "\n",
    "print(\"Vincenty distance calculation.\")\n",
    "print(\"Inserit tweet IDs:\")\n",
    "tweet1 = input(\"Tweet 1: \")\n",
    "tweet2 = input(\"Tweet 2: \")\n",
    "loc1=\"\"\n",
    "loc2=\"\"\n",
    "#create a function for this\n",
    "for x in dataset:\n",
    "    if str(x.get(\"id\")) == tweet1:\n",
    "        loc1 = x.get('osm_geolocation_centre')\n",
    "    elif str(x.get(\"id\")) == tweet2:\n",
    "        loc2 = x.get('osm_geolocation_centre')\n",
    "loc1 = convers(loc1)\n",
    "loc2 = convers(loc2)\n",
    "print(\"Distance = \", distance.distance(loc1, loc2).km)\n"
   ]
  },
  {
   "cell_type": "code",
   "execution_count": 10,
   "metadata": {},
   "outputs": [
    {
     "name": "stdout",
     "output_type": "stream",
     "text": [
      "<class 'tuple'>\n",
      "866.4554329098688\n"
     ]
    }
   ],
   "source": [
    "from geopy import distance\n",
    "newport_ri = (41.49008, -71.312796)\n",
    "cleveland_oh = (41.499498, -81.695391)\n",
    "print(type(newport_ri))\n",
    "# distance in kilometers using the geodesic\n",
    "print(distance.distance(newport_ri, cleveland_oh).km)"
   ]
  },
  {
   "cell_type": "code",
   "execution_count": null,
   "metadata": {},
   "outputs": [],
   "source": []
  }
 ],
 "metadata": {
  "kernelspec": {
   "display_name": "Python 3",
   "language": "python",
   "name": "python3"
  },
  "language_info": {
   "codemirror_mode": {
    "name": "ipython",
    "version": 3
   },
   "file_extension": ".py",
   "mimetype": "text/x-python",
   "name": "python",
   "nbconvert_exporter": "python",
   "pygments_lexer": "ipython3",
   "version": "3.7.0"
  }
 },
 "nbformat": 4,
 "nbformat_minor": 2
}
