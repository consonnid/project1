{
 "cells": [
  {
   "cell_type": "code",
   "execution_count": null,
   "metadata": {
    "scrolled": true
   },
   "outputs": [],
   "source": [
    "import gspread\n",
    "from oauth2client.service_account import ServiceAccountCredentials\n",
    "import pprint\n",
    "from geopy import distance\n",
    "import pandas as pd\n",
    "import ast\n",
    "\n",
    "#IMPORTAZIONE DATASET TWEET ANNOTATI\n",
    "scope = ['https://spreadsheets.google.com/feeds',\n",
    "         'https://www.googleapis.com/auth/drive']\n",
    "creds = ServiceAccountCredentials.from_json_keyfile_name('client_secret.json', scope)\n",
    "client = gspread.authorize(creds)\n",
    "sheet = client.open(\"Hurricane Sandy dataset completion \").sheet1 \n",
    "dataset = sheet.get_all_records(head = 26) #list of dictionaries\n",
    "\n",
    "#print(sheet.cell(27,1).value) -> metodo alternativo per accedere al foglio ecsell\n",
    "pp = pprint.PrettyPrinter()\n",
    "#pp.pprint(dataset_dict)\n",
    "#print(dataset)\n",
    "#print(len(dataset_dict))\n",
    "\n",
    "annotations = dict()\n",
    "for i in df.itertuples():\n",
    "    tweet_id = i.id\n",
    "    link = i.link\n",
    "    centres = i.osm_geolocation_centre\n",
    "    try:\n",
    "        value = ast.literal_eval(centres)\n",
    "        if isinstance(value, list) and all([isinstance(v, tuple) and len(v) == 2 for v in value]):\n",
    "            annotations[tweet_id] = value\n",
    "    except:\n",
    "        pass\n",
    "#for key, value in annotations.items():\n",
    "#    print(key, value)\n",
    "pp.pprint(annotations)\n",
    "print(\"////////////////////////////////////////////////////\")\n",
    "for key in annotations:\n",
    "    input(\"Dentro for\")\n",
    "    if string(annotations[tweet_id]) == \"[]\":\n",
    "        input(\"Dentro if\")\n",
    "        del annotations[tweet_id]\n",
    "pp.pprint(annotations)\n",
    "\n",
    "        \n",
    "\n",
    "\n",
    "\n"
   ]
  },
  {
   "cell_type": "code",
   "execution_count": null,
   "metadata": {},
   "outputs": [],
   "source": []
  }
 ],
 "metadata": {
  "kernelspec": {
   "display_name": "Python 3",
   "language": "python",
   "name": "python3"
  },
  "language_info": {
   "codemirror_mode": {
    "name": "ipython",
    "version": 3
   },
   "file_extension": ".py",
   "mimetype": "text/x-python",
   "name": "python",
   "nbconvert_exporter": "python",
   "pygments_lexer": "ipython3",
   "version": "3.7.0"
  }
 },
 "nbformat": 4,
 "nbformat_minor": 2
}
